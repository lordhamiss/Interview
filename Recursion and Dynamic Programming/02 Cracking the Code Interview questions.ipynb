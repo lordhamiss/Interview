{
 "cells": [
  {
   "cell_type": "markdown",
   "metadata": {},
   "source": [
    "## Question 1:Triple Step: \n",
    "A child is running up a staircase with n steps and can hop either 1 step, 2 steps, or 3\n",
    "steps at a time. Implement a method to count how many possible ways the child can run up the\n",
    "stairs."
   ]
  },
  {
   "cell_type": "markdown",
   "metadata": {},
   "source": [
    "* bruteforce:  add the number of paths for n-1, n-2, n-3\n",
    "* base case: n==0 --> we are standing on the destination --> 1 path\n",
    "* Time Complexity = O(3^n) since each function will call three new functions"
   ]
  },
  {
   "cell_type": "code",
   "execution_count": 4,
   "metadata": {},
   "outputs": [],
   "source": [
    "## recursive \n",
    "## hint: result = staircase(n-1)+staricase(n-2)+staircase(n-3)\n",
    "def staircase(n):\n",
    "    if n<0:\n",
    "        return 0\n",
    "    elif n==0:\n",
    "        return 1\n",
    "    else:\n",
    "        return staircase(n-1)+staircase(n-2)+staircase(n-3)"
   ]
  },
  {
   "cell_type": "code",
   "execution_count": 9,
   "metadata": {},
   "outputs": [
    {
     "name": "stdout",
     "output_type": "stream",
     "text": [
      "13\n"
     ]
    }
   ],
   "source": [
    "print (staircase(5))"
   ]
  },
  {
   "cell_type": "code",
   "execution_count": 6,
   "metadata": {},
   "outputs": [],
   "source": [
    "## DP bottom-up\n",
    "def staircase2(n):\n",
    "    cache={0:1}\n",
    "    for i in range(1,n+1):\n",
    "        temp=0\n",
    "        if i-1 in cache:\n",
    "            temp += cache[i-1]\n",
    "        if i-2 in cache:\n",
    "            temp += cache[i-2]\n",
    "        if i-3 in cache:\n",
    "            temp += cache[i-3]\n",
    "        cache[i]=temp\n",
    "        print (cache)\n",
    "    return cache[n]"
   ]
  },
  {
   "cell_type": "code",
   "execution_count": 12,
   "metadata": {},
   "outputs": [
    {
     "name": "stdout",
     "output_type": "stream",
     "text": [
      "{0: 1, 1: 1}\n",
      "{0: 1, 1: 1, 2: 2}\n",
      "{0: 1, 1: 1, 2: 2, 3: 4}\n",
      "{0: 1, 1: 1, 2: 2, 3: 4, 4: 7}\n",
      "{0: 1, 1: 1, 2: 2, 3: 4, 4: 7, 5: 13}\n",
      "13\n"
     ]
    }
   ],
   "source": [
    "print (staircase2(5))"
   ]
  },
  {
   "cell_type": "code",
   "execution_count": 15,
   "metadata": {},
   "outputs": [],
   "source": [
    "## DP up-down\n",
    "def Recursive(i, cache):\n",
    "    if i<0:\n",
    "        return 0\n",
    "    elif i==0:\n",
    "        return 1\n",
    "    elif cache[i]!=-1:\n",
    "        return cache[i]\n",
    "    else:\n",
    "        cache[i]=Recursive(i-3, cache)+Recursive(i-2, cache)+Recursive(i-1, cache)\n",
    "        return cache[i]\n",
    "    \n",
    "def staircase3(n):\n",
    "    cache=[-1]*(n+1)\n",
    "    return Recursive(n, cache)"
   ]
  },
  {
   "cell_type": "code",
   "execution_count": 16,
   "metadata": {},
   "outputs": [
    {
     "name": "stdout",
     "output_type": "stream",
     "text": [
      "13\n"
     ]
    }
   ],
   "source": [
    "print (staircase3(5))"
   ]
  },
  {
   "cell_type": "markdown",
   "metadata": {},
   "source": [
    "## Question 2: Robot in a Grid: \n",
    "Imagine a robot sitting on the upper left corner of grid with r rows and c columns.\n",
    "The robot can only move in two directions, right and down, but certain cells are \"off limits\" such that\n",
    "the robot cannot step on them. Design an algorithm to find a path for the robot from the top left to\n",
    "the bottom right."
   ]
  },
  {
   "cell_type": "markdown",
   "metadata": {},
   "source": [
    "answer: for reaching the (r,c) cell --> we should reach (r-1,c) or (r,c-1) --> we should reach (r-2,c) or (r-1,c-1) or (r,c-2) --> ..."
   ]
  },
  {
   "cell_type": "code",
   "execution_count": 35,
   "metadata": {},
   "outputs": [],
   "source": [
    "def getPath(maze):\n",
    "    if maze is None or len(maze)==0:\n",
    "        raise exception (\"empty\")\n",
    "    path=[]\n",
    "    if (reachEndpoint(maze, len(maze)-1, len(maze[0])-1, path)):\n",
    "        return path\n",
    "    return -1\n",
    "\n",
    "def reachEndpoint(maze, row, col, path):\n",
    "    if row<0 or col<0 or not maze[row][col]:\n",
    "        return False\n",
    "    #if there is a path from origin(0,0) to here add it to path\n",
    "    if row==0 and col==0:\n",
    "        path.append((row, col))\n",
    "        return True\n",
    "    elif reachEndpoint(maze, row-1, col, path) or reachEndpoint(maze, row, col-1, path):\n",
    "        path.append((row, col))\n",
    "        return True\n",
    "    return False"
   ]
  },
  {
   "cell_type": "code",
   "execution_count": 37,
   "metadata": {},
   "outputs": [
    {
     "name": "stdout",
     "output_type": "stream",
     "text": [
      "[(0, 0), (0, 1), (0, 2), (1, 2)]\n"
     ]
    }
   ],
   "source": [
    "maze= [[True, True, True], [True, True, True]]\n",
    "print (getPath(maze))"
   ]
  },
  {
   "cell_type": "markdown",
   "metadata": {},
   "source": [
    "Time complexity: O(2^(r+c)) since for each row and column we are calling a function twice\n",
    "problem: we are visiting a square multiple times\n",
    "we have rc squares --> we want O(rc)\n",
    "\n",
    "Create a failed list of squeres"
   ]
  },
  {
   "cell_type": "code",
   "execution_count": 43,
   "metadata": {},
   "outputs": [],
   "source": [
    "def getPath1(maze):\n",
    "    if maze is None or len(maze)==0:\n",
    "        raise exception (\"empty\")\n",
    "    path=[]\n",
    "    failed=set()\n",
    "    if (reachEndpoint1(maze, len(maze)-1, len(maze[0])-1, path, failed)):\n",
    "        return path\n",
    "    return -1\n",
    "\n",
    "def reachEndpoint1(maze, row, col, path, failed):\n",
    "    if (row,col) in failed:\n",
    "        return False\n",
    "    if row<0 or col<0 or not maze[row][col]:\n",
    "        return False\n",
    "    #if there is a path from origin(0,0) to here add it to path\n",
    "    if row==0 and col==0:\n",
    "        path.append((row, col))\n",
    "        return True\n",
    "    elif reachEndpoint1(maze, row-1, col, path, failed) or reachEndpoint1(maze, row, col-1, path, failed):\n",
    "        path.append((row, col))\n",
    "        return True\n",
    "    failed.add((row,col))\n",
    "    return False"
   ]
  },
  {
   "cell_type": "code",
   "execution_count": 44,
   "metadata": {},
   "outputs": [
    {
     "name": "stdout",
     "output_type": "stream",
     "text": [
      "[(0, 0), (0, 1), (0, 2), (1, 2)]\n"
     ]
    }
   ],
   "source": [
    "maze= [[True, True, True], [True, True, True]]\n",
    "print (getPath1(maze))"
   ]
  },
  {
   "cell_type": "markdown",
   "metadata": {},
   "source": [
    "## Question 3: Magic Index: \n",
    "A magic index in an array A [ 0 ••• n -1] is defined to be an index such that A[ i] =\n",
    "i. Given a sorted array of distinct integers, write a method to find a magic index, if one exists, in\n",
    "array A."
   ]
  },
  {
   "cell_type": "code",
   "execution_count": 46,
   "metadata": {},
   "outputs": [],
   "source": [
    "## brute force:\n",
    "def magicindex(A):\n",
    "    for i in range(len(A)):\n",
    "        if i==A[i]:\n",
    "            return i\n",
    "    return -1"
   ]
  },
  {
   "cell_type": "code",
   "execution_count": 47,
   "metadata": {},
   "outputs": [
    {
     "name": "stdout",
     "output_type": "stream",
     "text": [
      "0\n"
     ]
    }
   ],
   "source": [
    "print (magicindex([0,1,3]))"
   ]
  },
  {
   "cell_type": "code",
   "execution_count": null,
   "metadata": {},
   "outputs": [],
   "source": []
  }
 ],
 "metadata": {
  "kernelspec": {
   "display_name": "Python 3",
   "language": "python",
   "name": "python3"
  },
  "language_info": {
   "codemirror_mode": {
    "name": "ipython",
    "version": 3
   },
   "file_extension": ".py",
   "mimetype": "text/x-python",
   "name": "python",
   "nbconvert_exporter": "python",
   "pygments_lexer": "ipython3",
   "version": "3.6.12"
  }
 },
 "nbformat": 4,
 "nbformat_minor": 4
}
