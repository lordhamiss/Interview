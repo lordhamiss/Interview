{
 "cells": [
  {
   "cell_type": "markdown",
   "metadata": {},
   "source": [
    "## Question 1:Triple Step: \n",
    "A child is running up a staircase with n steps and can hop either 1 step, 2 steps, or 3\n",
    "steps at a time. Implement a method to count how many possible ways the child can run up the\n",
    "stairs."
   ]
  },
  {
   "cell_type": "markdown",
   "metadata": {},
   "source": [
    "* bruteforce:  add the number of paths for n-1, n-2, n-3\n",
    "* base case: n==0 --> we are standing on the destination --> 1 path\n",
    "* Time Complexity = O(3^n) since each function will call three new functions"
   ]
  },
  {
   "cell_type": "code",
   "execution_count": 4,
   "metadata": {},
   "outputs": [],
   "source": [
    "## recursive \n",
    "## hint: result = staircase(n-1)+staricase(n-2)+staircase(n-3)\n",
    "def staircase(n):\n",
    "    if n<0:\n",
    "        return 0\n",
    "    elif n==0:\n",
    "        return 1\n",
    "    else:\n",
    "        return staircase(n-1)+staircase(n-2)+staircase(n-3)"
   ]
  },
  {
   "cell_type": "code",
   "execution_count": 9,
   "metadata": {},
   "outputs": [
    {
     "name": "stdout",
     "output_type": "stream",
     "text": [
      "13\n"
     ]
    }
   ],
   "source": [
    "print (staircase(5))"
   ]
  },
  {
   "cell_type": "code",
   "execution_count": 6,
   "metadata": {},
   "outputs": [],
   "source": [
    "## DP bottom-up\n",
    "def staircase2(n):\n",
    "    cache={0:1}\n",
    "    for i in range(1,n+1):\n",
    "        temp=0\n",
    "        if i-1 in cache:\n",
    "            temp += cache[i-1]\n",
    "        if i-2 in cache:\n",
    "            temp += cache[i-2]\n",
    "        if i-3 in cache:\n",
    "            temp += cache[i-3]\n",
    "        cache[i]=temp\n",
    "        print (cache)\n",
    "    return cache[n]"
   ]
  },
  {
   "cell_type": "code",
   "execution_count": 12,
   "metadata": {},
   "outputs": [
    {
     "name": "stdout",
     "output_type": "stream",
     "text": [
      "{0: 1, 1: 1}\n",
      "{0: 1, 1: 1, 2: 2}\n",
      "{0: 1, 1: 1, 2: 2, 3: 4}\n",
      "{0: 1, 1: 1, 2: 2, 3: 4, 4: 7}\n",
      "{0: 1, 1: 1, 2: 2, 3: 4, 4: 7, 5: 13}\n",
      "13\n"
     ]
    }
   ],
   "source": [
    "print (staircase2(5))"
   ]
  },
  {
   "cell_type": "code",
   "execution_count": null,
   "metadata": {},
   "outputs": [],
   "source": [
    "## DP up-down\n",
    "def staircase3(n, cache=None):\n",
    "    if cache is None:\n",
    "        cache={}\n",
    "    if n<0:\n",
    "        return 0, cache\n",
    "    if n==0:\n",
    "        return 1, cache\n",
    "    else:\n",
    "        if n-1 in cache:\n",
    "            temp += cache[i-1]\n",
    "        else:\n",
    "            temp += \n",
    "        if n-2 in cache:\n",
    "            temp += cache[i-2]\n",
    "        if n-3 in cache:\n",
    "            temp += cache[i-3]\n",
    "    "
   ]
  }
 ],
 "metadata": {
  "kernelspec": {
   "display_name": "Python 3",
   "language": "python",
   "name": "python3"
  },
  "language_info": {
   "codemirror_mode": {
    "name": "ipython",
    "version": 3
   },
   "file_extension": ".py",
   "mimetype": "text/x-python",
   "name": "python",
   "nbconvert_exporter": "python",
   "pygments_lexer": "ipython3",
   "version": "3.6.12"
  }
 },
 "nbformat": 4,
 "nbformat_minor": 4
}
